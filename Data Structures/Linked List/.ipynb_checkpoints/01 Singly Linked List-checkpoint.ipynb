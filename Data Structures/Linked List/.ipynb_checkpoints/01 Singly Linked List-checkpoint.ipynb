{
 "cells": [
  {
   "cell_type": "markdown",
   "metadata": {},
   "source": [
    "# Introduction\n",
    "A singly linkedlist is a collection of nodes that forms a linear sequence.\n",
    "Each Node has 2 parts: Data and reference to next node."
   ]
  },
  {
   "cell_type": "code",
   "execution_count": 1,
   "metadata": {
    "collapsed": true
   },
   "outputs": [],
   "source": [
    "class Node():\n",
    "    def __init__(self, data):\n",
    "        self.data = data\n",
    "        self.next = None"
   ]
  },
  {
   "cell_type": "code",
   "execution_count": 73,
   "metadata": {
    "collapsed": true
   },
   "outputs": [],
   "source": [
    "class Linkedlist():\n",
    "    def __init__(self):\n",
    "        self.head = None\n",
    "        \n",
    "    def push(self, value):\n",
    "        new_node = Node(value)\n",
    "        current = self.head\n",
    "        if current == None:\n",
    "            self.head = new_node\n",
    "        else:\n",
    "            while current.next != None:\n",
    "                current = current.next\n",
    "            current.next = new_node\n",
    "            \n",
    "    def push_front(self, value):\n",
    "        new_node = Node(value)\n",
    "        current = self.head\n",
    "        new_node.next = current\n",
    "        self.head = new_node\n",
    "        \n",
    "    def insert(self, value, pos):\n",
    "        new_node = Node(value)\n",
    "        current = self.head\n",
    "        if pos == 0:\n",
    "            self.push_front(value)\n",
    "        else:\n",
    "            count = 0\n",
    "            prev = current\n",
    "            while count < pos:\n",
    "                if current == None:\n",
    "                    self.push(value)\n",
    "                    return\n",
    "                count = count + 1\n",
    "                prev = current\n",
    "                current = current.next\n",
    "            temp = prev.next\n",
    "            prev.next = new_node\n",
    "            new_node.next = temp\n",
    "        \n",
    "    def printlist(self):\n",
    "        current = self.head\n",
    "        if current == None:\n",
    "            print \"NULL\"\n",
    "        else:\n",
    "            while current != None:\n",
    "                print current.data \n",
    "                current = current.next"
   ]
  },
  {
   "cell_type": "code",
   "execution_count": 74,
   "metadata": {
    "collapsed": true
   },
   "outputs": [],
   "source": [
    "my_linkedlist = Linkedlist()"
   ]
  },
  {
   "cell_type": "code",
   "execution_count": 75,
   "metadata": {},
   "outputs": [
    {
     "name": "stdout",
     "output_type": "stream",
     "text": [
      "NULL\n"
     ]
    }
   ],
   "source": [
    "my_linkedlist.printlist()"
   ]
  },
  {
   "cell_type": "code",
   "execution_count": 76,
   "metadata": {},
   "outputs": [],
   "source": [
    "my_linkedlist.push(5)"
   ]
  },
  {
   "cell_type": "code",
   "execution_count": 77,
   "metadata": {},
   "outputs": [
    {
     "name": "stdout",
     "output_type": "stream",
     "text": [
      "5\n"
     ]
    }
   ],
   "source": [
    "my_linkedlist.printlist()"
   ]
  },
  {
   "cell_type": "code",
   "execution_count": 78,
   "metadata": {
    "collapsed": true
   },
   "outputs": [],
   "source": [
    "my_linkedlist.push(8)"
   ]
  },
  {
   "cell_type": "code",
   "execution_count": 79,
   "metadata": {
    "scrolled": true
   },
   "outputs": [
    {
     "name": "stdout",
     "output_type": "stream",
     "text": [
      "5\n",
      "8\n"
     ]
    }
   ],
   "source": [
    "my_linkedlist.printlist()"
   ]
  },
  {
   "cell_type": "code",
   "execution_count": 80,
   "metadata": {
    "collapsed": true
   },
   "outputs": [],
   "source": [
    "my_linkedlist.push(15)"
   ]
  },
  {
   "cell_type": "code",
   "execution_count": 81,
   "metadata": {},
   "outputs": [
    {
     "name": "stdout",
     "output_type": "stream",
     "text": [
      "5\n",
      "8\n",
      "15\n"
     ]
    }
   ],
   "source": [
    "my_linkedlist.printlist()"
   ]
  },
  {
   "cell_type": "code",
   "execution_count": 82,
   "metadata": {
    "collapsed": true
   },
   "outputs": [],
   "source": [
    "my_linkedlist.push_front(87)"
   ]
  },
  {
   "cell_type": "code",
   "execution_count": 83,
   "metadata": {},
   "outputs": [
    {
     "name": "stdout",
     "output_type": "stream",
     "text": [
      "87\n",
      "5\n",
      "8\n",
      "15\n"
     ]
    }
   ],
   "source": [
    "my_linkedlist.printlist()"
   ]
  },
  {
   "cell_type": "code",
   "execution_count": 84,
   "metadata": {
    "collapsed": true
   },
   "outputs": [],
   "source": [
    "my_linkedlist.push_front(25)"
   ]
  },
  {
   "cell_type": "code",
   "execution_count": 85,
   "metadata": {},
   "outputs": [
    {
     "name": "stdout",
     "output_type": "stream",
     "text": [
      "25\n",
      "87\n",
      "5\n",
      "8\n",
      "15\n"
     ]
    }
   ],
   "source": [
    "my_linkedlist.printlist()"
   ]
  },
  {
   "cell_type": "code",
   "execution_count": 86,
   "metadata": {
    "collapsed": true
   },
   "outputs": [],
   "source": [
    "my_linkedlist.insert(58, 3)"
   ]
  },
  {
   "cell_type": "code",
   "execution_count": 87,
   "metadata": {},
   "outputs": [
    {
     "name": "stdout",
     "output_type": "stream",
     "text": [
      "25\n",
      "87\n",
      "5\n",
      "58\n",
      "8\n",
      "15\n"
     ]
    }
   ],
   "source": [
    "my_linkedlist.printlist()"
   ]
  },
  {
   "cell_type": "code",
   "execution_count": 88,
   "metadata": {
    "collapsed": true
   },
   "outputs": [],
   "source": [
    "my_linkedlist.insert(100, 10)"
   ]
  },
  {
   "cell_type": "code",
   "execution_count": 89,
   "metadata": {},
   "outputs": [
    {
     "name": "stdout",
     "output_type": "stream",
     "text": [
      "25\n",
      "87\n",
      "5\n",
      "58\n",
      "8\n",
      "15\n",
      "100\n"
     ]
    }
   ],
   "source": [
    "my_linkedlist.printlist()"
   ]
  }
 ],
 "metadata": {
  "kernelspec": {
   "display_name": "Python 2",
   "language": "python",
   "name": "python2"
  },
  "language_info": {
   "codemirror_mode": {
    "name": "ipython",
    "version": 2
   },
   "file_extension": ".py",
   "mimetype": "text/x-python",
   "name": "python",
   "nbconvert_exporter": "python",
   "pygments_lexer": "ipython2",
   "version": "2.7.13"
  }
 },
 "nbformat": 4,
 "nbformat_minor": 2
}
