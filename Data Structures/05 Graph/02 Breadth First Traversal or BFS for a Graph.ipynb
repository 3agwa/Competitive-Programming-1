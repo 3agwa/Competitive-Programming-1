{
 "cells": [
  {
   "cell_type": "markdown",
   "metadata": {},
   "source": [
    "# Breadth First Traversal or BFS for a Graph\n",
    "It is a traversing algorithm that is used to traverse the nodes layerwise. Queue is used in this algorithm. \n",
    "1. Mark all connected nodes with the current node as visited.\n",
    "2. Move to the next layer and do 1 again\n",
    "\n",
    "![](https://he-s3.s3.amazonaws.com/media/uploads/fdec3c2.jpg)\n",
    "\n",
    "## Complexity\n",
    "- Time = O(V + E)\n",
    "\n",
    "## Implementation"
   ]
  },
  {
   "cell_type": "code",
   "execution_count": 1,
   "metadata": {
    "collapsed": true
   },
   "outputs": [],
   "source": [
    "from collections import deque\n",
    "class Graph():\n",
    "    def __init__(self, size):\n",
    "        self.data = {}\n",
    "        for i in xrange(size):\n",
    "            self.data[i] = []\n",
    "            \n",
    "    def add_vertex(self, u, v):\n",
    "        self.data[u].append(v)\n",
    "        \n",
    "    def bfs(self, source):\n",
    "        path = []\n",
    "        q = deque()\n",
    "        q.append(source)\n",
    "        visited = []\n",
    "        for i in xrange(len(self.data)):\n",
    "            visited.append(0)\n",
    "        visited[source] = 1\n",
    "        path.append(source)\n",
    "        while len(q) > 0:\n",
    "            v = q.popleft()\n",
    "            for i in xrange(len(self.data[v])):\n",
    "                if visited[self.data[v][i]] == 0:\n",
    "                    q.append(self.data[v][i])\n",
    "                    visited[self.data[v][i]] = 1\n",
    "                    path.append(self.data[v][i])\n",
    "        return path"
   ]
  },
  {
   "cell_type": "code",
   "execution_count": 2,
   "metadata": {},
   "outputs": [
    {
     "data": {
      "text/plain": [
       "{0: [], 1: [], 2: [], 3: [], 4: [], 5: [], 6: [], 7: []}"
      ]
     },
     "execution_count": 2,
     "metadata": {},
     "output_type": "execute_result"
    }
   ],
   "source": [
    "my_graph = Graph(8)\n",
    "my_graph.data"
   ]
  },
  {
   "cell_type": "code",
   "execution_count": 3,
   "metadata": {},
   "outputs": [
    {
     "data": {
      "text/plain": [
       "{0: [1, 2, 3], 1: [4, 5], 2: [6, 7], 3: [7], 4: [], 5: [], 6: [], 7: []}"
      ]
     },
     "execution_count": 3,
     "metadata": {},
     "output_type": "execute_result"
    }
   ],
   "source": [
    "my_graph.add_vertex(0, 1)\n",
    "my_graph.add_vertex(0, 2)\n",
    "my_graph.add_vertex(0, 3)\n",
    "my_graph.add_vertex(1, 4)\n",
    "my_graph.add_vertex(1, 5)\n",
    "my_graph.add_vertex(2, 6)\n",
    "my_graph.add_vertex(2, 7)\n",
    "my_graph.add_vertex(3, 7)\n",
    "my_graph.data"
   ]
  },
  {
   "cell_type": "code",
   "execution_count": 4,
   "metadata": {},
   "outputs": [
    {
     "data": {
      "text/plain": [
       "[0, 1, 2, 3, 4, 5, 6, 7]"
      ]
     },
     "execution_count": 4,
     "metadata": {},
     "output_type": "execute_result"
    }
   ],
   "source": [
    "my_graph.bfs(0)"
   ]
  }
 ],
 "metadata": {
  "kernelspec": {
   "display_name": "Python 2",
   "language": "python",
   "name": "python2"
  },
  "language_info": {
   "codemirror_mode": {
    "name": "ipython",
    "version": 2
   },
   "file_extension": ".py",
   "mimetype": "text/x-python",
   "name": "python",
   "nbconvert_exporter": "python",
   "pygments_lexer": "ipython2",
   "version": "2.7.13"
  }
 },
 "nbformat": 4,
 "nbformat_minor": 2
}
