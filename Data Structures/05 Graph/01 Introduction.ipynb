{
 "cells": [
  {
   "cell_type": "markdown",
   "metadata": {},
   "source": [
    "# What is Graph ?\n",
    "A graph is a data structure that consists of 2 components.\n",
    "1. A finite set of vertices called nodes.\n",
    "2. A finite set of ordered pair(u, v) called edges.\n",
    "\n",
    "![](http://www.geeksforgeeks.org/wp-content/uploads/graph_representation12.png)\n",
    "\n",
    "# Graph Representation\n",
    "1. Adjacency Matrix\n",
    "2. Adjacency List\n",
    "\n",
    "## Adjacency Matrix\n",
    "It is a 2D array of size V x V (V = Number of vertices)\n",
    "- M[i][j] = 1 if pair(i, j) exists\n",
    "- M[i][j] = 0 otherwise\n",
    "\n",
    "![](http://www.geeksforgeeks.org/wp-content/uploads/adjacency_matrix_representation.png)\n",
    "\n",
    "### Complexity\n",
    "- Space = O(V ** 2)\n",
    "- Check Edge = O(1)\n",
    "\n",
    "### Implementation"
   ]
  },
  {
   "cell_type": "code",
   "execution_count": 1,
   "metadata": {
    "collapsed": true
   },
   "outputs": [],
   "source": [
    "class Graph():\n",
    "    def __init__(self, size):\n",
    "        arr = []\n",
    "        for i in xrange(size):\n",
    "            arr1 = []\n",
    "            for j in xrange(size):\n",
    "                arr1.append(0)\n",
    "            arr.append(arr1)\n",
    "        self.data = arr\n",
    "        \n",
    "    def add_vertex(self, u, v):\n",
    "        self.data[u][v] = 1"
   ]
  },
  {
   "cell_type": "code",
   "execution_count": 2,
   "metadata": {},
   "outputs": [
    {
     "data": {
      "text/plain": [
       "[[0, 0, 0, 0, 0],\n",
       " [0, 0, 0, 0, 0],\n",
       " [0, 0, 0, 0, 0],\n",
       " [0, 0, 0, 0, 0],\n",
       " [0, 0, 0, 0, 0]]"
      ]
     },
     "execution_count": 2,
     "metadata": {},
     "output_type": "execute_result"
    }
   ],
   "source": [
    "my_graph = Graph(5)\n",
    "my_graph.data"
   ]
  },
  {
   "cell_type": "code",
   "execution_count": 3,
   "metadata": {},
   "outputs": [
    {
     "data": {
      "text/plain": [
       "[[0, 1, 0, 0, 1],\n",
       " [1, 0, 1, 1, 1],\n",
       " [0, 1, 0, 1, 0],\n",
       " [0, 1, 1, 0, 1],\n",
       " [1, 1, 0, 1, 0]]"
      ]
     },
     "execution_count": 3,
     "metadata": {},
     "output_type": "execute_result"
    }
   ],
   "source": [
    "my_graph.add_vertex(0, 1)\n",
    "my_graph.add_vertex(0, 4)\n",
    "my_graph.add_vertex(1, 0)\n",
    "my_graph.add_vertex(1, 2)\n",
    "my_graph.add_vertex(1, 3)\n",
    "my_graph.add_vertex(1, 4)\n",
    "my_graph.add_vertex(2, 1)\n",
    "my_graph.add_vertex(2, 3)\n",
    "my_graph.add_vertex(3, 1)\n",
    "my_graph.add_vertex(3, 2)\n",
    "my_graph.add_vertex(3, 4)\n",
    "my_graph.add_vertex(4, 0)\n",
    "my_graph.add_vertex(4, 1)\n",
    "my_graph.add_vertex(4, 3)\n",
    "my_graph.data"
   ]
  },
  {
   "cell_type": "markdown",
   "metadata": {},
   "source": [
    "## Adjacency List\n",
    "It is the array of linked list (dictionary of list in python).\n",
    "\n",
    "![](https://qph.ec.quoracdn.net/main-qimg-bfb110e3c651228194212c7d1403e2a7)\n",
    "\n",
    "### Complexity\n",
    "- Space = O(V + E)\n",
    "\n",
    "### Implementation"
   ]
  },
  {
   "cell_type": "code",
   "execution_count": 4,
   "metadata": {
    "collapsed": true
   },
   "outputs": [],
   "source": [
    "class ListGraph():\n",
    "    def __init__(self, size):\n",
    "        self.data = {}\n",
    "        for i in xrange(size):\n",
    "            self.data[i] = []\n",
    "            \n",
    "    def add_vertex(self, u, v):\n",
    "        self.data[u].append(v)"
   ]
  },
  {
   "cell_type": "code",
   "execution_count": 5,
   "metadata": {},
   "outputs": [
    {
     "data": {
      "text/plain": [
       "{0: [], 1: [], 2: [], 3: [], 4: [], 5: [], 6: [], 7: []}"
      ]
     },
     "execution_count": 5,
     "metadata": {},
     "output_type": "execute_result"
    }
   ],
   "source": [
    "my_list_graph = ListGraph(8)\n",
    "my_list_graph.data"
   ]
  },
  {
   "cell_type": "code",
   "execution_count": 6,
   "metadata": {},
   "outputs": [
    {
     "data": {
      "text/plain": [
       "{0: [],\n",
       " 1: [2, 4, 3],\n",
       " 2: [4, 5],\n",
       " 3: [6],\n",
       " 4: [6, 7, 3],\n",
       " 5: [4, 7],\n",
       " 6: [],\n",
       " 7: [6]}"
      ]
     },
     "execution_count": 6,
     "metadata": {},
     "output_type": "execute_result"
    }
   ],
   "source": [
    "my_list_graph.add_vertex(1, 2)\n",
    "my_list_graph.add_vertex(1, 4)\n",
    "my_list_graph.add_vertex(1, 3)\n",
    "my_list_graph.add_vertex(2, 4)\n",
    "my_list_graph.add_vertex(2, 5)\n",
    "my_list_graph.add_vertex(3, 6)\n",
    "my_list_graph.add_vertex(4, 6)\n",
    "my_list_graph.add_vertex(4, 7)\n",
    "my_list_graph.add_vertex(4, 3)\n",
    "my_list_graph.add_vertex(5, 4)\n",
    "my_list_graph.add_vertex(5, 7)\n",
    "my_list_graph.add_vertex(7, 6)\n",
    "my_list_graph.data"
   ]
  }
 ],
 "metadata": {
  "kernelspec": {
   "display_name": "Python 2",
   "language": "python",
   "name": "python2"
  },
  "language_info": {
   "codemirror_mode": {
    "name": "ipython",
    "version": 2
   },
   "file_extension": ".py",
   "mimetype": "text/x-python",
   "name": "python",
   "nbconvert_exporter": "python",
   "pygments_lexer": "ipython2",
   "version": "2.7.13"
  }
 },
 "nbformat": 4,
 "nbformat_minor": 2
}
